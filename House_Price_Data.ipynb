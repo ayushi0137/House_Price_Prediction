{
  "nbformat": 4,
  "nbformat_minor": 0,
  "metadata": {
    "colab": {
      "name": "House_Price_Data.ipynb",
      "provenance": [],
      "collapsed_sections": []
    },
    "kernelspec": {
      "name": "python3",
      "display_name": "Python 3"
    }
  },
  "cells": [
    {
      "cell_type": "code",
      "metadata": {
        "id": "-X2wy7Z9cE8k",
        "colab_type": "code",
        "colab": {}
      },
      "source": [
        "import pandas as pd\n",
        "import numpy as np"
      ],
      "execution_count": 0,
      "outputs": []
    },
    {
      "cell_type": "code",
      "metadata": {
        "id": "K1SX9tXdEO6O",
        "colab_type": "code",
        "outputId": "62802320-9cc1-4d6d-c857-892a3503a51c",
        "colab": {
          "base_uri": "https://localhost:8080/",
          "height": 33
        }
      },
      "source": [
        "from google.colab import drive\n",
        "drive.mount('/content/gdrive')"
      ],
      "execution_count": 0,
      "outputs": [
        {
          "output_type": "stream",
          "text": [
            "Drive already mounted at /content/gdrive; to attempt to forcibly remount, call drive.mount(\"/content/gdrive\", force_remount=True).\n"
          ],
          "name": "stdout"
        }
      ]
    },
    {
      "cell_type": "code",
      "metadata": {
        "id": "f2qmQGcDFule",
        "colab_type": "code",
        "colab": {}
      },
      "source": [
        "root_path = 'gdrive/My Drive/housepricedata.csv'"
      ],
      "execution_count": 0,
      "outputs": []
    },
    {
      "cell_type": "code",
      "metadata": {
        "id": "KFHeL8vdEosB",
        "colab_type": "code",
        "outputId": "5b80d520-81c7-485b-bb43-6d97d32b94d8",
        "colab": {
          "base_uri": "https://localhost:8080/",
          "height": 33
        }
      },
      "source": [
        "!ls"
      ],
      "execution_count": 0,
      "outputs": [
        {
          "output_type": "stream",
          "text": [
            "drive  gdrive  sample_data\n"
          ],
          "name": "stdout"
        }
      ]
    },
    {
      "cell_type": "code",
      "metadata": {
        "id": "2V907MGuFb5s",
        "colab_type": "code",
        "colab": {}
      },
      "source": [
        "!cd gdrive"
      ],
      "execution_count": 0,
      "outputs": []
    },
    {
      "cell_type": "code",
      "metadata": {
        "id": "t1MaGVmnFb2t",
        "colab_type": "code",
        "colab": {}
      },
      "source": [
        "!cd gdrive/My\\ Drive"
      ],
      "execution_count": 0,
      "outputs": []
    },
    {
      "cell_type": "code",
      "metadata": {
        "id": "672SbvzZzJxK",
        "colab_type": "code",
        "colab": {}
      },
      "source": [
        "data = pd.read_csv('gdrive/My Drive/housepricedata.csv')"
      ],
      "execution_count": 0,
      "outputs": []
    },
    {
      "cell_type": "code",
      "metadata": {
        "id": "EYaCBtG8zPje",
        "colab_type": "code",
        "outputId": "a2aadb3c-aec1-478b-cf78-a5352756c2b4",
        "colab": {
          "base_uri": "https://localhost:8080/",
          "height": 404
        }
      },
      "source": [
        "data"
      ],
      "execution_count": 0,
      "outputs": [
        {
          "output_type": "execute_result",
          "data": {
            "text/html": [
              "<div>\n",
              "<style scoped>\n",
              "    .dataframe tbody tr th:only-of-type {\n",
              "        vertical-align: middle;\n",
              "    }\n",
              "\n",
              "    .dataframe tbody tr th {\n",
              "        vertical-align: top;\n",
              "    }\n",
              "\n",
              "    .dataframe thead th {\n",
              "        text-align: right;\n",
              "    }\n",
              "</style>\n",
              "<table border=\"1\" class=\"dataframe\">\n",
              "  <thead>\n",
              "    <tr style=\"text-align: right;\">\n",
              "      <th></th>\n",
              "      <th>LotArea</th>\n",
              "      <th>OverallQual</th>\n",
              "      <th>OverallCond</th>\n",
              "      <th>TotalBsmtSF</th>\n",
              "      <th>FullBath</th>\n",
              "      <th>HalfBath</th>\n",
              "      <th>BedroomAbvGr</th>\n",
              "      <th>TotRmsAbvGrd</th>\n",
              "      <th>Fireplaces</th>\n",
              "      <th>GarageArea</th>\n",
              "      <th>AboveMedianPrice</th>\n",
              "    </tr>\n",
              "  </thead>\n",
              "  <tbody>\n",
              "    <tr>\n",
              "      <th>0</th>\n",
              "      <td>8450</td>\n",
              "      <td>7</td>\n",
              "      <td>5</td>\n",
              "      <td>856</td>\n",
              "      <td>2</td>\n",
              "      <td>1</td>\n",
              "      <td>3</td>\n",
              "      <td>8</td>\n",
              "      <td>0</td>\n",
              "      <td>548</td>\n",
              "      <td>1</td>\n",
              "    </tr>\n",
              "    <tr>\n",
              "      <th>1</th>\n",
              "      <td>9600</td>\n",
              "      <td>6</td>\n",
              "      <td>8</td>\n",
              "      <td>1262</td>\n",
              "      <td>2</td>\n",
              "      <td>0</td>\n",
              "      <td>3</td>\n",
              "      <td>6</td>\n",
              "      <td>1</td>\n",
              "      <td>460</td>\n",
              "      <td>1</td>\n",
              "    </tr>\n",
              "    <tr>\n",
              "      <th>2</th>\n",
              "      <td>11250</td>\n",
              "      <td>7</td>\n",
              "      <td>5</td>\n",
              "      <td>920</td>\n",
              "      <td>2</td>\n",
              "      <td>1</td>\n",
              "      <td>3</td>\n",
              "      <td>6</td>\n",
              "      <td>1</td>\n",
              "      <td>608</td>\n",
              "      <td>1</td>\n",
              "    </tr>\n",
              "    <tr>\n",
              "      <th>3</th>\n",
              "      <td>9550</td>\n",
              "      <td>7</td>\n",
              "      <td>5</td>\n",
              "      <td>756</td>\n",
              "      <td>1</td>\n",
              "      <td>0</td>\n",
              "      <td>3</td>\n",
              "      <td>7</td>\n",
              "      <td>1</td>\n",
              "      <td>642</td>\n",
              "      <td>0</td>\n",
              "    </tr>\n",
              "    <tr>\n",
              "      <th>4</th>\n",
              "      <td>14260</td>\n",
              "      <td>8</td>\n",
              "      <td>5</td>\n",
              "      <td>1145</td>\n",
              "      <td>2</td>\n",
              "      <td>1</td>\n",
              "      <td>4</td>\n",
              "      <td>9</td>\n",
              "      <td>1</td>\n",
              "      <td>836</td>\n",
              "      <td>1</td>\n",
              "    </tr>\n",
              "    <tr>\n",
              "      <th>...</th>\n",
              "      <td>...</td>\n",
              "      <td>...</td>\n",
              "      <td>...</td>\n",
              "      <td>...</td>\n",
              "      <td>...</td>\n",
              "      <td>...</td>\n",
              "      <td>...</td>\n",
              "      <td>...</td>\n",
              "      <td>...</td>\n",
              "      <td>...</td>\n",
              "      <td>...</td>\n",
              "    </tr>\n",
              "    <tr>\n",
              "      <th>1455</th>\n",
              "      <td>7917</td>\n",
              "      <td>6</td>\n",
              "      <td>5</td>\n",
              "      <td>953</td>\n",
              "      <td>2</td>\n",
              "      <td>1</td>\n",
              "      <td>3</td>\n",
              "      <td>7</td>\n",
              "      <td>1</td>\n",
              "      <td>460</td>\n",
              "      <td>1</td>\n",
              "    </tr>\n",
              "    <tr>\n",
              "      <th>1456</th>\n",
              "      <td>13175</td>\n",
              "      <td>6</td>\n",
              "      <td>6</td>\n",
              "      <td>1542</td>\n",
              "      <td>2</td>\n",
              "      <td>0</td>\n",
              "      <td>3</td>\n",
              "      <td>7</td>\n",
              "      <td>2</td>\n",
              "      <td>500</td>\n",
              "      <td>1</td>\n",
              "    </tr>\n",
              "    <tr>\n",
              "      <th>1457</th>\n",
              "      <td>9042</td>\n",
              "      <td>7</td>\n",
              "      <td>9</td>\n",
              "      <td>1152</td>\n",
              "      <td>2</td>\n",
              "      <td>0</td>\n",
              "      <td>4</td>\n",
              "      <td>9</td>\n",
              "      <td>2</td>\n",
              "      <td>252</td>\n",
              "      <td>1</td>\n",
              "    </tr>\n",
              "    <tr>\n",
              "      <th>1458</th>\n",
              "      <td>9717</td>\n",
              "      <td>5</td>\n",
              "      <td>6</td>\n",
              "      <td>1078</td>\n",
              "      <td>1</td>\n",
              "      <td>0</td>\n",
              "      <td>2</td>\n",
              "      <td>5</td>\n",
              "      <td>0</td>\n",
              "      <td>240</td>\n",
              "      <td>0</td>\n",
              "    </tr>\n",
              "    <tr>\n",
              "      <th>1459</th>\n",
              "      <td>9937</td>\n",
              "      <td>5</td>\n",
              "      <td>6</td>\n",
              "      <td>1256</td>\n",
              "      <td>1</td>\n",
              "      <td>1</td>\n",
              "      <td>3</td>\n",
              "      <td>6</td>\n",
              "      <td>0</td>\n",
              "      <td>276</td>\n",
              "      <td>0</td>\n",
              "    </tr>\n",
              "  </tbody>\n",
              "</table>\n",
              "<p>1460 rows × 11 columns</p>\n",
              "</div>"
            ],
            "text/plain": [
              "      LotArea  OverallQual  ...  GarageArea  AboveMedianPrice\n",
              "0        8450            7  ...         548                 1\n",
              "1        9600            6  ...         460                 1\n",
              "2       11250            7  ...         608                 1\n",
              "3        9550            7  ...         642                 0\n",
              "4       14260            8  ...         836                 1\n",
              "...       ...          ...  ...         ...               ...\n",
              "1455     7917            6  ...         460                 1\n",
              "1456    13175            6  ...         500                 1\n",
              "1457     9042            7  ...         252                 1\n",
              "1458     9717            5  ...         240                 0\n",
              "1459     9937            5  ...         276                 0\n",
              "\n",
              "[1460 rows x 11 columns]"
            ]
          },
          "metadata": {
            "tags": []
          },
          "execution_count": 29
        }
      ]
    },
    {
      "cell_type": "code",
      "metadata": {
        "id": "Jp-bHj-TJhgK",
        "colab_type": "code",
        "colab": {}
      },
      "source": [
        "dataset = data.values"
      ],
      "execution_count": 0,
      "outputs": []
    },
    {
      "cell_type": "code",
      "metadata": {
        "id": "xQqzS9fuLUVS",
        "colab_type": "code",
        "colab": {}
      },
      "source": [
        "X = dataset[:, 0:10]\n",
        "Y = dataset[:, 10]"
      ],
      "execution_count": 0,
      "outputs": []
    },
    {
      "cell_type": "code",
      "metadata": {
        "id": "yeIOvSTjMXxS",
        "colab_type": "code",
        "outputId": "3602b59c-c695-4167-e11b-fd06c8a60be6",
        "colab": {
          "base_uri": "https://localhost:8080/",
          "height": 33
        }
      },
      "source": [
        "Y"
      ],
      "execution_count": 0,
      "outputs": [
        {
          "output_type": "execute_result",
          "data": {
            "text/plain": [
              "array([1, 1, 1, ..., 1, 0, 0])"
            ]
          },
          "metadata": {
            "tags": []
          },
          "execution_count": 40
        }
      ]
    },
    {
      "cell_type": "code",
      "metadata": {
        "id": "DTXOyaZbMadg",
        "colab_type": "code",
        "outputId": "8d255ea9-c857-4df1-dd9f-3f08262f0078",
        "colab": {
          "base_uri": "https://localhost:8080/",
          "height": 234
        }
      },
      "source": [
        "from sklearn import preprocessing\n",
        "\n",
        "min_max_scaler = preprocessing.MinMaxScaler()\n",
        "X_scale = min_max_scaler.fit_transform(X)\n",
        "X_scale"
      ],
      "execution_count": 0,
      "outputs": [
        {
          "output_type": "execute_result",
          "data": {
            "text/plain": [
              "array([[0.0334198 , 0.66666667, 0.5       , ..., 0.5       , 0.        ,\n",
              "        0.3864598 ],\n",
              "       [0.03879502, 0.55555556, 0.875     , ..., 0.33333333, 0.33333333,\n",
              "        0.32440056],\n",
              "       [0.04650728, 0.66666667, 0.5       , ..., 0.33333333, 0.33333333,\n",
              "        0.42877292],\n",
              "       ...,\n",
              "       [0.03618687, 0.66666667, 1.        , ..., 0.58333333, 0.66666667,\n",
              "        0.17771509],\n",
              "       [0.03934189, 0.44444444, 0.625     , ..., 0.25      , 0.        ,\n",
              "        0.16925247],\n",
              "       [0.04037019, 0.44444444, 0.625     , ..., 0.33333333, 0.        ,\n",
              "        0.19464034]])"
            ]
          },
          "metadata": {
            "tags": []
          },
          "execution_count": 41
        }
      ]
    },
    {
      "cell_type": "code",
      "metadata": {
        "id": "YwMM5uePM2YC",
        "colab_type": "code",
        "colab": {}
      },
      "source": [
        "from sklearn.model_selection import train_test_split\n",
        "\n",
        "X_train, X_val_and_test, Y_train, Y_val_and_test = train_test_split(X_scale, Y, test_size = 0.3)"
      ],
      "execution_count": 0,
      "outputs": []
    },
    {
      "cell_type": "code",
      "metadata": {
        "id": "1cGQE6m8NHUi",
        "colab_type": "code",
        "colab": {}
      },
      "source": [
        "X_val, X_test, Y_val, Y_test = train_test_split(X_val_and_test, Y_val_and_test, test_size = 0.5)"
      ],
      "execution_count": 0,
      "outputs": []
    },
    {
      "cell_type": "code",
      "metadata": {
        "id": "3tCrqaWMNKL5",
        "colab_type": "code",
        "outputId": "51e9f9a8-87a9-452e-aa93-8b0e258ffc34",
        "colab": {
          "base_uri": "https://localhost:8080/",
          "height": 33
        }
      },
      "source": [
        "print(X_train.shape, X_val.shape, X_test.shape, Y_train.shape, Y_val.shape, Y_test.shape)"
      ],
      "execution_count": 0,
      "outputs": [
        {
          "output_type": "stream",
          "text": [
            "(1022, 10) (219, 10) (219, 10) (1022,) (219,) (219,)\n"
          ],
          "name": "stdout"
        }
      ]
    },
    {
      "cell_type": "code",
      "metadata": {
        "id": "kzIIkx4ONMfi",
        "colab_type": "code",
        "colab": {}
      },
      "source": [
        "from tensorflow.keras.models import Sequential \n",
        "import keras\n",
        "import tensorflow as tf\n",
        "from tensorflow.keras.layers import Dense, Dropout, Flatten\n",
        "from tensorflow.keras.layers import Conv2D, MaxPooling2D\n",
        "from tensorflow.keras import losses\n",
        "import numpy as np\n",
        "from tensorflow.keras.layers import Input, Dense\n"
      ],
      "execution_count": 0,
      "outputs": []
    },
    {
      "cell_type": "code",
      "metadata": {
        "id": "mmWOz-vdOjfV",
        "colab_type": "code",
        "colab": {}
      },
      "source": [
        "model = Sequential()\n",
        "model.add(Dense(32, activation = 'relu', input_shape = (10,)))\n",
        "model.add(Dense(32, activation = 'relu'))\n",
        "model.add(Dense(1, activation = 'sigmoid'))"
      ],
      "execution_count": 0,
      "outputs": []
    },
    {
      "cell_type": "code",
      "metadata": {
        "id": "Wi-V_VhXnyHT",
        "colab_type": "code",
        "outputId": "f6eafe0f-2bb1-4472-a279-1a729fee4e23",
        "colab": {
          "base_uri": "https://localhost:8080/",
          "height": 1000
        }
      },
      "source": [
        "model.compile(optimizer = 'sgd', loss = 'binary_crossentropy', metrics = ['accuracy'])\n",
        "\n",
        "hist = model.fit(X_train, Y_train, batch_size = 32, epochs = 100, validation_data=(X_val, Y_val))\n",
        "\n",
        "model.evaluate(X_test, Y_test)[1]"
      ],
      "execution_count": 0,
      "outputs": [
        {
          "output_type": "stream",
          "text": [
            "Train on 1022 samples, validate on 219 samples\n",
            "Epoch 1/100\n",
            "1022/1022 [==============================] - 0s 462us/sample - loss: 0.2737 - accuracy: 0.8914 - val_loss: 0.2832 - val_accuracy: 0.8950\n",
            "Epoch 2/100\n",
            "1022/1022 [==============================] - 0s 66us/sample - loss: 0.2728 - accuracy: 0.8885 - val_loss: 0.2811 - val_accuracy: 0.8950\n",
            "Epoch 3/100\n",
            "1022/1022 [==============================] - 0s 68us/sample - loss: 0.2729 - accuracy: 0.8875 - val_loss: 0.2806 - val_accuracy: 0.8950\n",
            "Epoch 4/100\n",
            "1022/1022 [==============================] - 0s 63us/sample - loss: 0.2722 - accuracy: 0.8894 - val_loss: 0.2803 - val_accuracy: 0.8904\n",
            "Epoch 5/100\n",
            "1022/1022 [==============================] - 0s 79us/sample - loss: 0.2711 - accuracy: 0.8904 - val_loss: 0.2796 - val_accuracy: 0.8950\n",
            "Epoch 6/100\n",
            "1022/1022 [==============================] - 0s 66us/sample - loss: 0.2706 - accuracy: 0.8914 - val_loss: 0.2799 - val_accuracy: 0.8995\n",
            "Epoch 7/100\n",
            "1022/1022 [==============================] - 0s 66us/sample - loss: 0.2708 - accuracy: 0.8904 - val_loss: 0.2785 - val_accuracy: 0.8950\n",
            "Epoch 8/100\n",
            "1022/1022 [==============================] - 0s 65us/sample - loss: 0.2705 - accuracy: 0.8885 - val_loss: 0.2781 - val_accuracy: 0.8950\n",
            "Epoch 9/100\n",
            "1022/1022 [==============================] - 0s 66us/sample - loss: 0.2704 - accuracy: 0.8875 - val_loss: 0.2780 - val_accuracy: 0.8950\n",
            "Epoch 10/100\n",
            "1022/1022 [==============================] - 0s 67us/sample - loss: 0.2695 - accuracy: 0.8894 - val_loss: 0.2772 - val_accuracy: 0.8950\n",
            "Epoch 11/100\n",
            "1022/1022 [==============================] - 0s 66us/sample - loss: 0.2690 - accuracy: 0.8904 - val_loss: 0.2770 - val_accuracy: 0.8950\n",
            "Epoch 12/100\n",
            "1022/1022 [==============================] - 0s 66us/sample - loss: 0.2683 - accuracy: 0.8904 - val_loss: 0.2764 - val_accuracy: 0.8950\n",
            "Epoch 13/100\n",
            "1022/1022 [==============================] - 0s 75us/sample - loss: 0.2683 - accuracy: 0.8933 - val_loss: 0.2760 - val_accuracy: 0.8995\n",
            "Epoch 14/100\n",
            "1022/1022 [==============================] - 0s 66us/sample - loss: 0.2671 - accuracy: 0.8904 - val_loss: 0.2754 - val_accuracy: 0.8950\n",
            "Epoch 15/100\n",
            "1022/1022 [==============================] - 0s 67us/sample - loss: 0.2674 - accuracy: 0.8914 - val_loss: 0.2754 - val_accuracy: 0.8995\n",
            "Epoch 16/100\n",
            "1022/1022 [==============================] - 0s 66us/sample - loss: 0.2669 - accuracy: 0.8894 - val_loss: 0.2758 - val_accuracy: 0.8995\n",
            "Epoch 17/100\n",
            "1022/1022 [==============================] - 0s 68us/sample - loss: 0.2660 - accuracy: 0.8885 - val_loss: 0.2790 - val_accuracy: 0.8904\n",
            "Epoch 18/100\n",
            "1022/1022 [==============================] - 0s 64us/sample - loss: 0.2665 - accuracy: 0.8904 - val_loss: 0.2753 - val_accuracy: 0.8950\n",
            "Epoch 19/100\n",
            "1022/1022 [==============================] - 0s 66us/sample - loss: 0.2653 - accuracy: 0.8914 - val_loss: 0.2742 - val_accuracy: 0.9041\n",
            "Epoch 20/100\n",
            "1022/1022 [==============================] - 0s 70us/sample - loss: 0.2643 - accuracy: 0.8875 - val_loss: 0.2785 - val_accuracy: 0.8858\n",
            "Epoch 21/100\n",
            "1022/1022 [==============================] - 0s 72us/sample - loss: 0.2635 - accuracy: 0.8855 - val_loss: 0.2725 - val_accuracy: 0.8904\n",
            "Epoch 22/100\n",
            "1022/1022 [==============================] - 0s 70us/sample - loss: 0.2646 - accuracy: 0.8924 - val_loss: 0.2738 - val_accuracy: 0.8950\n",
            "Epoch 23/100\n",
            "1022/1022 [==============================] - 0s 66us/sample - loss: 0.2652 - accuracy: 0.8885 - val_loss: 0.2724 - val_accuracy: 0.8995\n",
            "Epoch 24/100\n",
            "1022/1022 [==============================] - 0s 65us/sample - loss: 0.2634 - accuracy: 0.8924 - val_loss: 0.2721 - val_accuracy: 0.8995\n",
            "Epoch 25/100\n",
            "1022/1022 [==============================] - 0s 66us/sample - loss: 0.2634 - accuracy: 0.8933 - val_loss: 0.2710 - val_accuracy: 0.8995\n",
            "Epoch 26/100\n",
            "1022/1022 [==============================] - 0s 64us/sample - loss: 0.2630 - accuracy: 0.8904 - val_loss: 0.2719 - val_accuracy: 0.8950\n",
            "Epoch 27/100\n",
            "1022/1022 [==============================] - 0s 63us/sample - loss: 0.2626 - accuracy: 0.8885 - val_loss: 0.2709 - val_accuracy: 0.8995\n",
            "Epoch 28/100\n",
            "1022/1022 [==============================] - 0s 66us/sample - loss: 0.2627 - accuracy: 0.8933 - val_loss: 0.2705 - val_accuracy: 0.8995\n",
            "Epoch 29/100\n",
            "1022/1022 [==============================] - 0s 68us/sample - loss: 0.2625 - accuracy: 0.8894 - val_loss: 0.2706 - val_accuracy: 0.9041\n",
            "Epoch 30/100\n",
            "1022/1022 [==============================] - 0s 67us/sample - loss: 0.2622 - accuracy: 0.8914 - val_loss: 0.2693 - val_accuracy: 0.8995\n",
            "Epoch 31/100\n",
            "1022/1022 [==============================] - 0s 69us/sample - loss: 0.2618 - accuracy: 0.8914 - val_loss: 0.2705 - val_accuracy: 0.8904\n",
            "Epoch 32/100\n",
            "1022/1022 [==============================] - 0s 68us/sample - loss: 0.2617 - accuracy: 0.8924 - val_loss: 0.2702 - val_accuracy: 0.8904\n",
            "Epoch 33/100\n",
            "1022/1022 [==============================] - 0s 71us/sample - loss: 0.2607 - accuracy: 0.8943 - val_loss: 0.2684 - val_accuracy: 0.8995\n",
            "Epoch 34/100\n",
            "1022/1022 [==============================] - 0s 78us/sample - loss: 0.2603 - accuracy: 0.8953 - val_loss: 0.2686 - val_accuracy: 0.8995\n",
            "Epoch 35/100\n",
            "1022/1022 [==============================] - 0s 71us/sample - loss: 0.2608 - accuracy: 0.8943 - val_loss: 0.2675 - val_accuracy: 0.8950\n",
            "Epoch 36/100\n",
            "1022/1022 [==============================] - 0s 68us/sample - loss: 0.2600 - accuracy: 0.8924 - val_loss: 0.2674 - val_accuracy: 0.8995\n",
            "Epoch 37/100\n",
            "1022/1022 [==============================] - 0s 66us/sample - loss: 0.2597 - accuracy: 0.8924 - val_loss: 0.2673 - val_accuracy: 0.8995\n",
            "Epoch 38/100\n",
            "1022/1022 [==============================] - 0s 66us/sample - loss: 0.2581 - accuracy: 0.8933 - val_loss: 0.2733 - val_accuracy: 0.8950\n",
            "Epoch 39/100\n",
            "1022/1022 [==============================] - 0s 67us/sample - loss: 0.2600 - accuracy: 0.8933 - val_loss: 0.2669 - val_accuracy: 0.8995\n",
            "Epoch 40/100\n",
            "1022/1022 [==============================] - 0s 64us/sample - loss: 0.2591 - accuracy: 0.8904 - val_loss: 0.2660 - val_accuracy: 0.8995\n",
            "Epoch 41/100\n",
            "1022/1022 [==============================] - 0s 68us/sample - loss: 0.2597 - accuracy: 0.8943 - val_loss: 0.2674 - val_accuracy: 0.8950\n",
            "Epoch 42/100\n",
            "1022/1022 [==============================] - 0s 68us/sample - loss: 0.2591 - accuracy: 0.8933 - val_loss: 0.2674 - val_accuracy: 0.8950\n",
            "Epoch 43/100\n",
            "1022/1022 [==============================] - 0s 69us/sample - loss: 0.2585 - accuracy: 0.8953 - val_loss: 0.2671 - val_accuracy: 0.8950\n",
            "Epoch 44/100\n",
            "1022/1022 [==============================] - 0s 69us/sample - loss: 0.2582 - accuracy: 0.8953 - val_loss: 0.2656 - val_accuracy: 0.8995\n",
            "Epoch 45/100\n",
            "1022/1022 [==============================] - 0s 70us/sample - loss: 0.2579 - accuracy: 0.8933 - val_loss: 0.2647 - val_accuracy: 0.8995\n",
            "Epoch 46/100\n",
            "1022/1022 [==============================] - 0s 67us/sample - loss: 0.2574 - accuracy: 0.8943 - val_loss: 0.2648 - val_accuracy: 0.9041\n",
            "Epoch 47/100\n",
            "1022/1022 [==============================] - 0s 67us/sample - loss: 0.2568 - accuracy: 0.8924 - val_loss: 0.2642 - val_accuracy: 0.8995\n",
            "Epoch 48/100\n",
            "1022/1022 [==============================] - 0s 75us/sample - loss: 0.2569 - accuracy: 0.8982 - val_loss: 0.2649 - val_accuracy: 0.8995\n",
            "Epoch 49/100\n",
            "1022/1022 [==============================] - 0s 67us/sample - loss: 0.2571 - accuracy: 0.8943 - val_loss: 0.2644 - val_accuracy: 0.8995\n",
            "Epoch 50/100\n",
            "1022/1022 [==============================] - 0s 66us/sample - loss: 0.2562 - accuracy: 0.8982 - val_loss: 0.2659 - val_accuracy: 0.8950\n",
            "Epoch 51/100\n",
            "1022/1022 [==============================] - 0s 66us/sample - loss: 0.2556 - accuracy: 0.8924 - val_loss: 0.2673 - val_accuracy: 0.8950\n",
            "Epoch 52/100\n",
            "1022/1022 [==============================] - 0s 64us/sample - loss: 0.2557 - accuracy: 0.8963 - val_loss: 0.2633 - val_accuracy: 0.9041\n",
            "Epoch 53/100\n",
            "1022/1022 [==============================] - 0s 65us/sample - loss: 0.2559 - accuracy: 0.8914 - val_loss: 0.2632 - val_accuracy: 0.9041\n",
            "Epoch 54/100\n",
            "1022/1022 [==============================] - 0s 64us/sample - loss: 0.2552 - accuracy: 0.8943 - val_loss: 0.2624 - val_accuracy: 0.8995\n",
            "Epoch 55/100\n",
            "1022/1022 [==============================] - 0s 65us/sample - loss: 0.2562 - accuracy: 0.8963 - val_loss: 0.2621 - val_accuracy: 0.8995\n",
            "Epoch 56/100\n",
            "1022/1022 [==============================] - 0s 70us/sample - loss: 0.2562 - accuracy: 0.8924 - val_loss: 0.2635 - val_accuracy: 0.8950\n",
            "Epoch 57/100\n",
            "1022/1022 [==============================] - 0s 65us/sample - loss: 0.2553 - accuracy: 0.8963 - val_loss: 0.2652 - val_accuracy: 0.8995\n",
            "Epoch 58/100\n",
            "1022/1022 [==============================] - 0s 68us/sample - loss: 0.2556 - accuracy: 0.8904 - val_loss: 0.2663 - val_accuracy: 0.8950\n",
            "Epoch 59/100\n",
            "1022/1022 [==============================] - 0s 68us/sample - loss: 0.2532 - accuracy: 0.8953 - val_loss: 0.2611 - val_accuracy: 0.8995\n",
            "Epoch 60/100\n",
            "1022/1022 [==============================] - 0s 69us/sample - loss: 0.2556 - accuracy: 0.8953 - val_loss: 0.2614 - val_accuracy: 0.9041\n",
            "Epoch 61/100\n",
            "1022/1022 [==============================] - 0s 65us/sample - loss: 0.2543 - accuracy: 0.8963 - val_loss: 0.2606 - val_accuracy: 0.8995\n",
            "Epoch 62/100\n",
            "1022/1022 [==============================] - 0s 66us/sample - loss: 0.2546 - accuracy: 0.8982 - val_loss: 0.2603 - val_accuracy: 0.8995\n",
            "Epoch 63/100\n",
            "1022/1022 [==============================] - 0s 67us/sample - loss: 0.2540 - accuracy: 0.8992 - val_loss: 0.2624 - val_accuracy: 0.8995\n",
            "Epoch 64/100\n",
            "1022/1022 [==============================] - 0s 66us/sample - loss: 0.2543 - accuracy: 0.8924 - val_loss: 0.2621 - val_accuracy: 0.9041\n",
            "Epoch 65/100\n",
            "1022/1022 [==============================] - 0s 72us/sample - loss: 0.2544 - accuracy: 0.8953 - val_loss: 0.2601 - val_accuracy: 0.9041\n",
            "Epoch 66/100\n",
            "1022/1022 [==============================] - 0s 77us/sample - loss: 0.2542 - accuracy: 0.8943 - val_loss: 0.2616 - val_accuracy: 0.9041\n",
            "Epoch 67/100\n",
            "1022/1022 [==============================] - 0s 67us/sample - loss: 0.2530 - accuracy: 0.8963 - val_loss: 0.2615 - val_accuracy: 0.9041\n",
            "Epoch 68/100\n",
            "1022/1022 [==============================] - 0s 65us/sample - loss: 0.2538 - accuracy: 0.8982 - val_loss: 0.2626 - val_accuracy: 0.8995\n",
            "Epoch 69/100\n",
            "1022/1022 [==============================] - 0s 68us/sample - loss: 0.2537 - accuracy: 0.8963 - val_loss: 0.2593 - val_accuracy: 0.9041\n",
            "Epoch 70/100\n",
            "1022/1022 [==============================] - 0s 64us/sample - loss: 0.2530 - accuracy: 0.8943 - val_loss: 0.2584 - val_accuracy: 0.8995\n",
            "Epoch 71/100\n",
            "1022/1022 [==============================] - 0s 64us/sample - loss: 0.2536 - accuracy: 0.8982 - val_loss: 0.2582 - val_accuracy: 0.8995\n",
            "Epoch 72/100\n",
            "1022/1022 [==============================] - 0s 65us/sample - loss: 0.2522 - accuracy: 0.8963 - val_loss: 0.2580 - val_accuracy: 0.8995\n",
            "Epoch 73/100\n",
            "1022/1022 [==============================] - 0s 67us/sample - loss: 0.2514 - accuracy: 0.8943 - val_loss: 0.2643 - val_accuracy: 0.8904\n",
            "Epoch 74/100\n",
            "1022/1022 [==============================] - 0s 66us/sample - loss: 0.2533 - accuracy: 0.8963 - val_loss: 0.2577 - val_accuracy: 0.8995\n",
            "Epoch 75/100\n",
            "1022/1022 [==============================] - 0s 69us/sample - loss: 0.2522 - accuracy: 0.8963 - val_loss: 0.2597 - val_accuracy: 0.9041\n",
            "Epoch 76/100\n",
            "1022/1022 [==============================] - 0s 68us/sample - loss: 0.2517 - accuracy: 0.8973 - val_loss: 0.2584 - val_accuracy: 0.9041\n",
            "Epoch 77/100\n",
            "1022/1022 [==============================] - 0s 69us/sample - loss: 0.2529 - accuracy: 0.8982 - val_loss: 0.2600 - val_accuracy: 0.9041\n",
            "Epoch 78/100\n",
            "1022/1022 [==============================] - 0s 65us/sample - loss: 0.2512 - accuracy: 0.9022 - val_loss: 0.2568 - val_accuracy: 0.8995\n",
            "Epoch 79/100\n",
            "1022/1022 [==============================] - 0s 66us/sample - loss: 0.2521 - accuracy: 0.8982 - val_loss: 0.2592 - val_accuracy: 0.9041\n",
            "Epoch 80/100\n",
            "1022/1022 [==============================] - 0s 64us/sample - loss: 0.2519 - accuracy: 0.9012 - val_loss: 0.2588 - val_accuracy: 0.9041\n",
            "Epoch 81/100\n",
            "1022/1022 [==============================] - 0s 65us/sample - loss: 0.2515 - accuracy: 0.9002 - val_loss: 0.2588 - val_accuracy: 0.9041\n",
            "Epoch 82/100\n",
            "1022/1022 [==============================] - 0s 67us/sample - loss: 0.2515 - accuracy: 0.8992 - val_loss: 0.2599 - val_accuracy: 0.9041\n",
            "Epoch 83/100\n",
            "1022/1022 [==============================] - 0s 66us/sample - loss: 0.2504 - accuracy: 0.9031 - val_loss: 0.2565 - val_accuracy: 0.9087\n",
            "Epoch 84/100\n",
            "1022/1022 [==============================] - 0s 67us/sample - loss: 0.2499 - accuracy: 0.8982 - val_loss: 0.2612 - val_accuracy: 0.8995\n",
            "Epoch 85/100\n",
            "1022/1022 [==============================] - 0s 68us/sample - loss: 0.2514 - accuracy: 0.8953 - val_loss: 0.2558 - val_accuracy: 0.9041\n",
            "Epoch 86/100\n",
            "1022/1022 [==============================] - 0s 67us/sample - loss: 0.2515 - accuracy: 0.8992 - val_loss: 0.2569 - val_accuracy: 0.9041\n",
            "Epoch 87/100\n",
            "1022/1022 [==============================] - 0s 70us/sample - loss: 0.2506 - accuracy: 0.9002 - val_loss: 0.2558 - val_accuracy: 0.9041\n",
            "Epoch 88/100\n",
            "1022/1022 [==============================] - 0s 64us/sample - loss: 0.2504 - accuracy: 0.8963 - val_loss: 0.2579 - val_accuracy: 0.9041\n",
            "Epoch 89/100\n",
            "1022/1022 [==============================] - 0s 66us/sample - loss: 0.2500 - accuracy: 0.9012 - val_loss: 0.2583 - val_accuracy: 0.9041\n",
            "Epoch 90/100\n",
            "1022/1022 [==============================] - 0s 86us/sample - loss: 0.2503 - accuracy: 0.8973 - val_loss: 0.2549 - val_accuracy: 0.9041\n",
            "Epoch 91/100\n",
            "1022/1022 [==============================] - 0s 68us/sample - loss: 0.2496 - accuracy: 0.8982 - val_loss: 0.2544 - val_accuracy: 0.9041\n",
            "Epoch 92/100\n",
            "1022/1022 [==============================] - 0s 66us/sample - loss: 0.2495 - accuracy: 0.8982 - val_loss: 0.2615 - val_accuracy: 0.8813\n",
            "Epoch 93/100\n",
            "1022/1022 [==============================] - 0s 65us/sample - loss: 0.2508 - accuracy: 0.8953 - val_loss: 0.2570 - val_accuracy: 0.9041\n",
            "Epoch 94/100\n",
            "1022/1022 [==============================] - 0s 64us/sample - loss: 0.2492 - accuracy: 0.8982 - val_loss: 0.2549 - val_accuracy: 0.9041\n",
            "Epoch 95/100\n",
            "1022/1022 [==============================] - 0s 65us/sample - loss: 0.2490 - accuracy: 0.9012 - val_loss: 0.2562 - val_accuracy: 0.9041\n",
            "Epoch 96/100\n",
            "1022/1022 [==============================] - 0s 65us/sample - loss: 0.2489 - accuracy: 0.8992 - val_loss: 0.2574 - val_accuracy: 0.9041\n",
            "Epoch 97/100\n",
            "1022/1022 [==============================] - 0s 66us/sample - loss: 0.2495 - accuracy: 0.9012 - val_loss: 0.2582 - val_accuracy: 0.9041\n",
            "Epoch 98/100\n",
            "1022/1022 [==============================] - 0s 66us/sample - loss: 0.2490 - accuracy: 0.8992 - val_loss: 0.2537 - val_accuracy: 0.9041\n",
            "Epoch 99/100\n",
            "1022/1022 [==============================] - 0s 68us/sample - loss: 0.2493 - accuracy: 0.8992 - val_loss: 0.2545 - val_accuracy: 0.9041\n",
            "Epoch 100/100\n",
            "1022/1022 [==============================] - 0s 69us/sample - loss: 0.2497 - accuracy: 0.8973 - val_loss: 0.2549 - val_accuracy: 0.8995\n",
            "219/1 [==========================================================================================================================================================================================================================================================================================================================================================================================================================================================================================================================================================================================================================================================================================================================================================================================================================================================================================================================================================================================================================================================================================================================================================================================================================================================================================================================================================================================================================================================================================================================================================================================================================================================================================================================================================================================================================================================================================================================================================================================================================================================================================================================================================================================================================================================================================================================================================================================================================================================================================================================================================================================================================================================================================================================================================================================================================================================================================================================================================================================================================================================================================================================================================================================================================================================================================================================================================================================================================================================================================================================================================================================================================================================================================================================================================================================================================================================================================================================================================================================================================================================================================================================================================================================================================================================================================================================================================================================================================================================================================================================================================================================================================================================================================================================================================================================================================================================================================================================================================================================================================================================================================================================================================================================================================================================================================================================================================================================================================================================================================================================================================================================================================================================================================================================================================================================================================================================================================================================================================================================================================================================================================================================================================================================================================================================================================================================================================================================================================================================================================================================================================================================================================================================================================================================================================================================================================================] - 0s 45us/sample - loss: 0.3019 - accuracy: 0.8721\n"
          ],
          "name": "stdout"
        },
        {
          "output_type": "execute_result",
          "data": {
            "text/plain": [
              "0.8721461"
            ]
          },
          "metadata": {
            "tags": []
          },
          "execution_count": 82
        }
      ]
    },
    {
      "cell_type": "code",
      "metadata": {
        "id": "UoYnp0zNocKt",
        "colab_type": "code",
        "colab": {}
      },
      "source": [
        "import matplotlib.pyplot as plt"
      ],
      "execution_count": 0,
      "outputs": []
    },
    {
      "cell_type": "code",
      "metadata": {
        "id": "Q389lCP7pBYD",
        "colab_type": "code",
        "outputId": "98dd2e4a-5ffc-481c-8d9f-36c1376ddc44",
        "colab": {
          "base_uri": "https://localhost:8080/",
          "height": 295
        }
      },
      "source": [
        "plt.plot(hist.history['loss'])\n",
        "plt.plot(hist.history['val_loss'])\n",
        "plt.title('Model loss')\n",
        "plt.ylabel('Loss')\n",
        "plt.xlabel('Epoch')\n",
        "plt.legend(['Train', 'Val'], loc = 'upper right')\n",
        "plt.show()"
      ],
      "execution_count": 0,
      "outputs": [
        {
          "output_type": "display_data",
          "data": {
            "image/png": "[encoded data removed]",
            "text/plain": [
              "<Figure size 432x288 with 1 Axes>"
            ]
          },
          "metadata": {
            "tags": []
          }
        }
      ]
    },
    {
      "cell_type": "code",
      "metadata": {
        "id": "Npxti_zjqvcL",
        "colab_type": "code",
        "outputId": "2c0b183e-3860-40d3-9fd3-b65de53f74e1",
        "colab": {
          "base_uri": "https://localhost:8080/",
          "height": 295
        }
      },
      "source": [
        "plt.plot(hist.history['accuracy'])\n",
        "plt.plot(hist.history['val_accuracy'])\n",
        "plt.title('Model Accuracy')\n",
        "plt.ylabel('Accuracy')\n",
        "plt.xlabel('Epoch')\n",
        "plt.legend(['Train', 'Val'], loc = 'upper right')\n",
        "plt.show()"
      ],
      "execution_count": 0,
      "outputs": [
        {
          "output_type": "display_data",
          "data": {
            "image/png": "[encoded data removed]",
            "text/plain": [
              "<Figure size 432x288 with 1 Axes>"
            ]
          },
          "metadata": {
            "tags": []
          }
        }
      ]
    },
    {
      "cell_type": "code",
      "metadata": {
        "id": "QbbvqGs4uO7Q",
        "colab_type": "code",
        "outputId": "3b1e2edc-e113-4c45-b121-1209323fd1c8",
        "colab": {
          "base_uri": "https://localhost:8080/",
          "height": 1000
        }
      },
      "source": [
        "model_2 = Sequential([\n",
        "    Dense(1000, activation='relu', input_shape=(10,)),\n",
        "    Dense(1000, activation='relu'),\n",
        "    Dense(1000, activation='relu'),\n",
        "    Dense(1000, activation='relu'),\n",
        "    Dense(1, activation='sigmoid'),\n",
        "])\n",
        "\n",
        "model_2.compile(optimizer='adam', loss='binary_crossentropy', metrics=['accuracy'])\n",
        "\n",
        "hist_2 = model_2.fit(X_train, Y_train, batch_size=32, epochs=100, validation_data=(X_val, Y_val))"
      ],
      "execution_count": 0,
      "outputs": [
        {
          "output_type": "stream",
          "text": [
            "Train on 1022 samples, validate on 219 samples\n",
            "Epoch 1/100\n",
            "1022/1022 [==============================] - 2s 2ms/sample - loss: 0.4561 - accuracy: 0.7965 - val_loss: 0.3920 - val_accuracy: 0.8174\n",
            "Epoch 2/100\n",
            "1022/1022 [==============================] - 1s 1ms/sample - loss: 0.3395 - accuracy: 0.8571 - val_loss: 0.3163 - val_accuracy: 0.8630\n",
            "Epoch 3/100\n",
            "1022/1022 [==============================] - 1s 1ms/sample - loss: 0.3215 - accuracy: 0.8669 - val_loss: 0.2886 - val_accuracy: 0.8767\n",
            "Epoch 4/100\n",
            "1022/1022 [==============================] - 1s 1ms/sample - loss: 0.2948 - accuracy: 0.8708 - val_loss: 0.2711 - val_accuracy: 0.8950\n",
            "Epoch 5/100\n",
            "1022/1022 [==============================] - 1s 1ms/sample - loss: 0.2747 - accuracy: 0.8767 - val_loss: 0.2268 - val_accuracy: 0.9041\n",
            "Epoch 6/100\n",
            "1022/1022 [==============================] - 1s 1ms/sample - loss: 0.2992 - accuracy: 0.8689 - val_loss: 0.3654 - val_accuracy: 0.8630\n",
            "Epoch 7/100\n",
            "1022/1022 [==============================] - 1s 1ms/sample - loss: 0.2680 - accuracy: 0.8796 - val_loss: 0.2775 - val_accuracy: 0.8721\n",
            "Epoch 8/100\n",
            "1022/1022 [==============================] - 1s 1ms/sample - loss: 0.2403 - accuracy: 0.8924 - val_loss: 0.2353 - val_accuracy: 0.8858\n",
            "Epoch 9/100\n",
            "1022/1022 [==============================] - 1s 1ms/sample - loss: 0.2986 - accuracy: 0.8885 - val_loss: 0.2337 - val_accuracy: 0.8858\n",
            "Epoch 10/100\n",
            "1022/1022 [==============================] - 1s 1ms/sample - loss: 0.2377 - accuracy: 0.9031 - val_loss: 0.2427 - val_accuracy: 0.8950\n",
            "Epoch 11/100\n",
            "1022/1022 [==============================] - 1s 1ms/sample - loss: 0.2415 - accuracy: 0.8973 - val_loss: 0.2490 - val_accuracy: 0.8995\n",
            "Epoch 12/100\n",
            "1022/1022 [==============================] - 1s 1ms/sample - loss: 0.2157 - accuracy: 0.9119 - val_loss: 0.2232 - val_accuracy: 0.8950\n",
            "Epoch 13/100\n",
            "1022/1022 [==============================] - 1s 1ms/sample - loss: 0.2416 - accuracy: 0.8963 - val_loss: 0.2624 - val_accuracy: 0.8858\n",
            "Epoch 14/100\n",
            "1022/1022 [==============================] - 1s 1ms/sample - loss: 0.2367 - accuracy: 0.9012 - val_loss: 0.2430 - val_accuracy: 0.8995\n",
            "Epoch 15/100\n",
            "1022/1022 [==============================] - 1s 1ms/sample - loss: 0.2228 - accuracy: 0.9061 - val_loss: 0.2771 - val_accuracy: 0.8858\n",
            "Epoch 16/100\n",
            "1022/1022 [==============================] - 1s 1ms/sample - loss: 0.2132 - accuracy: 0.9080 - val_loss: 0.2348 - val_accuracy: 0.9087\n",
            "Epoch 17/100\n",
            "1022/1022 [==============================] - 1s 1ms/sample - loss: 0.1977 - accuracy: 0.9198 - val_loss: 0.2628 - val_accuracy: 0.8904\n",
            "Epoch 18/100\n",
            "1022/1022 [==============================] - 1s 1ms/sample - loss: 0.2094 - accuracy: 0.9080 - val_loss: 0.3000 - val_accuracy: 0.8721\n",
            "Epoch 19/100\n",
            "1022/1022 [==============================] - 1s 1ms/sample - loss: 0.2093 - accuracy: 0.9080 - val_loss: 0.2331 - val_accuracy: 0.9087\n",
            "Epoch 20/100\n",
            "1022/1022 [==============================] - 1s 1ms/sample - loss: 0.1940 - accuracy: 0.9129 - val_loss: 0.2226 - val_accuracy: 0.9132\n",
            "Epoch 21/100\n",
            "1022/1022 [==============================] - 1s 1ms/sample - loss: 0.1909 - accuracy: 0.9100 - val_loss: 0.2358 - val_accuracy: 0.8950\n",
            "Epoch 22/100\n",
            "1022/1022 [==============================] - 1s 1ms/sample - loss: 0.2569 - accuracy: 0.8816 - val_loss: 0.2055 - val_accuracy: 0.9041\n",
            "Epoch 23/100\n",
            "1022/1022 [==============================] - 1s 1ms/sample - loss: 0.2172 - accuracy: 0.9080 - val_loss: 0.2220 - val_accuracy: 0.8950\n",
            "Epoch 24/100\n",
            "1022/1022 [==============================] - 1s 1ms/sample - loss: 0.1957 - accuracy: 0.9129 - val_loss: 0.2264 - val_accuracy: 0.9087\n",
            "Epoch 25/100\n",
            "1022/1022 [==============================] - 1s 1ms/sample - loss: 0.1970 - accuracy: 0.9178 - val_loss: 0.2173 - val_accuracy: 0.9178\n",
            "Epoch 26/100\n",
            "1022/1022 [==============================] - 1s 1ms/sample - loss: 0.1803 - accuracy: 0.9217 - val_loss: 0.2387 - val_accuracy: 0.8630\n",
            "Epoch 27/100\n",
            "1022/1022 [==============================] - 1s 1ms/sample - loss: 0.1938 - accuracy: 0.9110 - val_loss: 0.2258 - val_accuracy: 0.8950\n",
            "Epoch 28/100\n",
            "1022/1022 [==============================] - 1s 1ms/sample - loss: 0.2065 - accuracy: 0.9129 - val_loss: 0.2523 - val_accuracy: 0.8950\n",
            "Epoch 29/100\n",
            "1022/1022 [==============================] - 1s 1ms/sample - loss: 0.2046 - accuracy: 0.9110 - val_loss: 0.2280 - val_accuracy: 0.8950\n",
            "Epoch 30/100\n",
            "1022/1022 [==============================] - 1s 1ms/sample - loss: 0.1818 - accuracy: 0.9227 - val_loss: 0.2235 - val_accuracy: 0.9087\n",
            "Epoch 31/100\n",
            "1022/1022 [==============================] - 1s 1ms/sample - loss: 0.1729 - accuracy: 0.9207 - val_loss: 0.2175 - val_accuracy: 0.9041\n",
            "Epoch 32/100\n",
            "1022/1022 [==============================] - 1s 1ms/sample - loss: 0.1664 - accuracy: 0.9286 - val_loss: 0.2356 - val_accuracy: 0.9041\n",
            "Epoch 33/100\n",
            "1022/1022 [==============================] - 1s 1ms/sample - loss: 0.2001 - accuracy: 0.9110 - val_loss: 0.2106 - val_accuracy: 0.9178\n",
            "Epoch 34/100\n",
            "1022/1022 [==============================] - 1s 1ms/sample - loss: 0.1906 - accuracy: 0.9188 - val_loss: 0.2254 - val_accuracy: 0.9132\n",
            "Epoch 35/100\n",
            "1022/1022 [==============================] - 1s 1ms/sample - loss: 0.1963 - accuracy: 0.9168 - val_loss: 0.2597 - val_accuracy: 0.9041\n",
            "Epoch 36/100\n",
            "1022/1022 [==============================] - 1s 1ms/sample - loss: 0.1822 - accuracy: 0.9305 - val_loss: 0.2138 - val_accuracy: 0.9087\n",
            "Epoch 37/100\n",
            "1022/1022 [==============================] - 1s 1ms/sample - loss: 0.1835 - accuracy: 0.9178 - val_loss: 0.2303 - val_accuracy: 0.8995\n",
            "Epoch 38/100\n",
            "1022/1022 [==============================] - 1s 1ms/sample - loss: 0.1872 - accuracy: 0.9227 - val_loss: 0.2281 - val_accuracy: 0.9132\n",
            "Epoch 39/100\n",
            "1022/1022 [==============================] - 1s 1ms/sample - loss: 0.2049 - accuracy: 0.9129 - val_loss: 0.2220 - val_accuracy: 0.8950\n",
            "Epoch 40/100\n",
            "1022/1022 [==============================] - 1s 1ms/sample - loss: 0.1866 - accuracy: 0.9198 - val_loss: 0.2267 - val_accuracy: 0.8950\n",
            "Epoch 41/100\n",
            "1022/1022 [==============================] - 1s 1ms/sample - loss: 0.1833 - accuracy: 0.9188 - val_loss: 0.2229 - val_accuracy: 0.9087\n",
            "Epoch 42/100\n",
            "1022/1022 [==============================] - 1s 1ms/sample - loss: 0.1892 - accuracy: 0.9149 - val_loss: 0.2172 - val_accuracy: 0.9041\n",
            "Epoch 43/100\n",
            "1022/1022 [==============================] - 1s 1ms/sample - loss: 0.1707 - accuracy: 0.9276 - val_loss: 0.2810 - val_accuracy: 0.8950\n",
            "Epoch 44/100\n",
            "1022/1022 [==============================] - 1s 1ms/sample - loss: 0.1598 - accuracy: 0.9325 - val_loss: 0.2428 - val_accuracy: 0.8995\n",
            "Epoch 45/100\n",
            "1022/1022 [==============================] - 1s 1ms/sample - loss: 0.1606 - accuracy: 0.9335 - val_loss: 0.2131 - val_accuracy: 0.9315\n",
            "Epoch 46/100\n",
            "1022/1022 [==============================] - 1s 1ms/sample - loss: 0.1669 - accuracy: 0.9266 - val_loss: 0.2384 - val_accuracy: 0.9087\n",
            "Epoch 47/100\n",
            "1022/1022 [==============================] - 1s 1ms/sample - loss: 0.1758 - accuracy: 0.9237 - val_loss: 0.2224 - val_accuracy: 0.9224\n",
            "Epoch 48/100\n",
            "1022/1022 [==============================] - 1s 1ms/sample - loss: 0.1530 - accuracy: 0.9315 - val_loss: 0.3532 - val_accuracy: 0.8493\n",
            "Epoch 49/100\n",
            "1022/1022 [==============================] - 1s 1ms/sample - loss: 0.1839 - accuracy: 0.9129 - val_loss: 0.2358 - val_accuracy: 0.9087\n",
            "Epoch 50/100\n",
            "1022/1022 [==============================] - 1s 1ms/sample - loss: 0.1645 - accuracy: 0.9286 - val_loss: 0.2298 - val_accuracy: 0.9041\n",
            "Epoch 51/100\n",
            "1022/1022 [==============================] - 1s 1ms/sample - loss: 0.1610 - accuracy: 0.9266 - val_loss: 0.2401 - val_accuracy: 0.8995\n",
            "Epoch 52/100\n",
            "1022/1022 [==============================] - 1s 1ms/sample - loss: 0.1574 - accuracy: 0.9403 - val_loss: 0.2287 - val_accuracy: 0.9087\n",
            "Epoch 53/100\n",
            "1022/1022 [==============================] - 1s 1ms/sample - loss: 0.1596 - accuracy: 0.9344 - val_loss: 0.2295 - val_accuracy: 0.9178\n",
            "Epoch 54/100\n",
            "1022/1022 [==============================] - 1s 1ms/sample - loss: 0.1542 - accuracy: 0.9374 - val_loss: 0.2001 - val_accuracy: 0.8995\n",
            "Epoch 55/100\n",
            "1022/1022 [==============================] - 1s 1ms/sample - loss: 0.1423 - accuracy: 0.9413 - val_loss: 0.2302 - val_accuracy: 0.9132\n",
            "Epoch 56/100\n",
            "1022/1022 [==============================] - 1s 1ms/sample - loss: 0.1356 - accuracy: 0.9403 - val_loss: 0.2712 - val_accuracy: 0.8721\n",
            "Epoch 57/100\n",
            "1022/1022 [==============================] - 1s 1ms/sample - loss: 0.1645 - accuracy: 0.9315 - val_loss: 0.2338 - val_accuracy: 0.9087\n",
            "Epoch 58/100\n",
            "1022/1022 [==============================] - 1s 1ms/sample - loss: 0.1528 - accuracy: 0.9325 - val_loss: 0.2539 - val_accuracy: 0.8904\n",
            "Epoch 59/100\n",
            "1022/1022 [==============================] - 1s 1ms/sample - loss: 0.1521 - accuracy: 0.9266 - val_loss: 0.2441 - val_accuracy: 0.9132\n",
            "Epoch 60/100\n",
            "1022/1022 [==============================] - 1s 1ms/sample - loss: 0.1518 - accuracy: 0.9403 - val_loss: 0.2554 - val_accuracy: 0.9178\n",
            "Epoch 61/100\n",
            "1022/1022 [==============================] - 1s 1ms/sample - loss: 0.1616 - accuracy: 0.9335 - val_loss: 0.2448 - val_accuracy: 0.9132\n",
            "Epoch 62/100\n",
            "1022/1022 [==============================] - 1s 1ms/sample - loss: 0.1744 - accuracy: 0.9305 - val_loss: 0.2526 - val_accuracy: 0.8950\n",
            "Epoch 63/100\n",
            "1022/1022 [==============================] - 1s 1ms/sample - loss: 0.1590 - accuracy: 0.9315 - val_loss: 0.2798 - val_accuracy: 0.8767\n",
            "Epoch 64/100\n",
            "1022/1022 [==============================] - 1s 1ms/sample - loss: 0.1382 - accuracy: 0.9423 - val_loss: 0.2730 - val_accuracy: 0.8904\n",
            "Epoch 65/100\n",
            "1022/1022 [==============================] - 1s 1ms/sample - loss: 0.1447 - accuracy: 0.9432 - val_loss: 0.2635 - val_accuracy: 0.9087\n",
            "Epoch 66/100\n",
            "1022/1022 [==============================] - 1s 1ms/sample - loss: 0.1745 - accuracy: 0.9266 - val_loss: 0.2061 - val_accuracy: 0.9224\n",
            "Epoch 67/100\n",
            "1022/1022 [==============================] - 1s 1ms/sample - loss: 0.1529 - accuracy: 0.9266 - val_loss: 0.2233 - val_accuracy: 0.9132\n",
            "Epoch 68/100\n",
            "1022/1022 [==============================] - 1s 1ms/sample - loss: 0.1253 - accuracy: 0.9442 - val_loss: 0.2426 - val_accuracy: 0.9178\n",
            "Epoch 69/100\n",
            "1022/1022 [==============================] - 1s 1ms/sample - loss: 0.1288 - accuracy: 0.9442 - val_loss: 0.2265 - val_accuracy: 0.9041\n",
            "Epoch 70/100\n",
            "1022/1022 [==============================] - 1s 1ms/sample - loss: 0.1383 - accuracy: 0.9393 - val_loss: 0.2536 - val_accuracy: 0.9269\n",
            "Epoch 71/100\n",
            "1022/1022 [==============================] - 1s 1ms/sample - loss: 0.1542 - accuracy: 0.9403 - val_loss: 0.3007 - val_accuracy: 0.8858\n",
            "Epoch 72/100\n",
            "1022/1022 [==============================] - 1s 1ms/sample - loss: 0.1650 - accuracy: 0.9452 - val_loss: 0.2592 - val_accuracy: 0.8950\n",
            "Epoch 73/100\n",
            "1022/1022 [==============================] - 1s 1ms/sample - loss: 0.1396 - accuracy: 0.9452 - val_loss: 0.2133 - val_accuracy: 0.9178\n",
            "Epoch 74/100\n",
            "1022/1022 [==============================] - 1s 1ms/sample - loss: 0.1252 - accuracy: 0.9521 - val_loss: 0.2465 - val_accuracy: 0.9224\n",
            "Epoch 75/100\n",
            "1022/1022 [==============================] - 1s 1ms/sample - loss: 0.1172 - accuracy: 0.9462 - val_loss: 0.2366 - val_accuracy: 0.8995\n",
            "Epoch 76/100\n",
            "1022/1022 [==============================] - 1s 1ms/sample - loss: 0.1606 - accuracy: 0.9462 - val_loss: 0.2238 - val_accuracy: 0.8950\n",
            "Epoch 77/100\n",
            "1022/1022 [==============================] - 1s 1ms/sample - loss: 0.1394 - accuracy: 0.9384 - val_loss: 0.2899 - val_accuracy: 0.8904\n",
            "Epoch 78/100\n",
            "1022/1022 [==============================] - 1s 1ms/sample - loss: 0.1502 - accuracy: 0.9354 - val_loss: 0.2643 - val_accuracy: 0.8995\n",
            "Epoch 79/100\n",
            "1022/1022 [==============================] - 1s 1ms/sample - loss: 0.1395 - accuracy: 0.9423 - val_loss: 0.2609 - val_accuracy: 0.9087\n",
            "Epoch 80/100\n",
            "1022/1022 [==============================] - 1s 1ms/sample - loss: 0.1270 - accuracy: 0.9530 - val_loss: 0.3006 - val_accuracy: 0.8904\n",
            "Epoch 81/100\n",
            "1022/1022 [==============================] - 1s 1ms/sample - loss: 0.1422 - accuracy: 0.9472 - val_loss: 0.2999 - val_accuracy: 0.8904\n",
            "Epoch 82/100\n",
            "1022/1022 [==============================] - 1s 1ms/sample - loss: 0.1484 - accuracy: 0.9374 - val_loss: 0.3199 - val_accuracy: 0.8584\n",
            "Epoch 83/100\n",
            "1022/1022 [==============================] - 1s 1ms/sample - loss: 0.1326 - accuracy: 0.9511 - val_loss: 0.3176 - val_accuracy: 0.8904\n",
            "Epoch 84/100\n",
            "1022/1022 [==============================] - 1s 1ms/sample - loss: 0.1091 - accuracy: 0.9530 - val_loss: 0.2847 - val_accuracy: 0.9178\n",
            "Epoch 85/100\n",
            "1022/1022 [==============================] - 1s 1ms/sample - loss: 0.1156 - accuracy: 0.9511 - val_loss: 0.3207 - val_accuracy: 0.9087\n",
            "Epoch 86/100\n",
            "1022/1022 [==============================] - 1s 1ms/sample - loss: 0.1053 - accuracy: 0.9579 - val_loss: 0.3056 - val_accuracy: 0.8995\n",
            "Epoch 87/100\n",
            "1022/1022 [==============================] - 1s 1ms/sample - loss: 0.1114 - accuracy: 0.9521 - val_loss: 0.3024 - val_accuracy: 0.9087\n",
            "Epoch 88/100\n",
            "1022/1022 [==============================] - 1s 1ms/sample - loss: 0.1149 - accuracy: 0.9521 - val_loss: 0.3035 - val_accuracy: 0.9087\n",
            "Epoch 89/100\n",
            "1022/1022 [==============================] - 1s 1ms/sample - loss: 0.0968 - accuracy: 0.9609 - val_loss: 0.3022 - val_accuracy: 0.8995\n",
            "Epoch 90/100\n",
            "1022/1022 [==============================] - 1s 1ms/sample - loss: 0.1871 - accuracy: 0.9325 - val_loss: 0.2419 - val_accuracy: 0.8995\n",
            "Epoch 91/100\n",
            "1022/1022 [==============================] - 1s 1ms/sample - loss: 0.1135 - accuracy: 0.9560 - val_loss: 0.3002 - val_accuracy: 0.8995\n",
            "Epoch 92/100\n",
            "1022/1022 [==============================] - 1s 1ms/sample - loss: 0.1012 - accuracy: 0.9609 - val_loss: 0.3022 - val_accuracy: 0.9087\n",
            "Epoch 93/100\n",
            "1022/1022 [==============================] - 1s 1ms/sample - loss: 0.1227 - accuracy: 0.9511 - val_loss: 0.2699 - val_accuracy: 0.9178\n",
            "Epoch 94/100\n",
            "1022/1022 [==============================] - 1s 1ms/sample - loss: 0.1003 - accuracy: 0.9609 - val_loss: 0.3573 - val_accuracy: 0.8813\n",
            "Epoch 95/100\n",
            "1022/1022 [==============================] - 1s 1ms/sample - loss: 0.1257 - accuracy: 0.9560 - val_loss: 0.3444 - val_accuracy: 0.8995\n",
            "Epoch 96/100\n",
            "1022/1022 [==============================] - 1s 1ms/sample - loss: 0.1018 - accuracy: 0.9638 - val_loss: 0.2872 - val_accuracy: 0.9087\n",
            "Epoch 97/100\n",
            "1022/1022 [==============================] - 1s 1ms/sample - loss: 0.0950 - accuracy: 0.9618 - val_loss: 0.3534 - val_accuracy: 0.8858\n",
            "Epoch 98/100\n",
            "1022/1022 [==============================] - 1s 1ms/sample - loss: 0.1118 - accuracy: 0.9521 - val_loss: 0.2910 - val_accuracy: 0.9132\n",
            "Epoch 99/100\n",
            "1022/1022 [==============================] - 1s 1ms/sample - loss: 0.1203 - accuracy: 0.9521 - val_loss: 0.2740 - val_accuracy: 0.8813\n",
            "Epoch 100/100\n",
            "1022/1022 [==============================] - 1s 1ms/sample - loss: 0.1006 - accuracy: 0.9569 - val_loss: 0.3259 - val_accuracy: 0.8995\n"
          ],
          "name": "stdout"
        }
      ]
    },
    {
      "cell_type": "code",
      "metadata": {
        "id": "v8bzWnuVvVRR",
        "colab_type": "code",
        "outputId": "9c7d7b82-dfc3-4d48-fb80-7b7610a30222",
        "colab": {
          "base_uri": "https://localhost:8080/",
          "height": 295
        }
      },
      "source": [
        "plt.plot(hist.history['loss'])\n",
        "plt.plot(hist.history['val_loss'])\n",
        "plt.title('Model loss')\n",
        "plt.ylabel('Loss')\n",
        "plt.xlabel('Epoch')\n",
        "plt.legend(['Train', 'Val'], loc = 'upper right')\n",
        "plt.show()"
      ],
      "execution_count": 0,
      "outputs": [
        {
          "output_type": "display_data",
          "data": {
            "image/png": "[encoded data removed]",
            "text/plain": [
              "<Figure size 432x288 with 1 Axes>"
            ]
          },
          "metadata": {
            "tags": []
          }
        }
      ]
    },
    {
      "cell_type": "code",
      "metadata": {
        "id": "-00eZR-7vmt-",
        "colab_type": "code",
        "outputId": "d6c52c6e-a892-4714-c31e-0ffefd28da51",
        "colab": {
          "base_uri": "https://localhost:8080/",
          "height": 295
        }
      },
      "source": [
        "plt.plot(hist.history['accuracy'])\n",
        "plt.plot(hist.history['val_accuracy'])\n",
        "plt.title('Model Accuracy')\n",
        "plt.ylabel('Accuracy')\n",
        "plt.xlabel('Epoch')\n",
        "plt.legend(['Train', 'Val'], loc = 'upper right')\n",
        "plt.show()"
      ],
      "execution_count": 0,
      "outputs": [
        {
          "output_type": "display_data",
          "data": {
            "image/png": "[encoded data removed]",
            "text/plain": [
              "<Figure size 432x288 with 1 Axes>"
            ]
          },
          "metadata": {
            "tags": []
          }
        }
      ]
    },
    {
      "cell_type": "code",
      "metadata": {
        "id": "h8WmtwXQwIQC",
        "colab_type": "code",
        "colab": {}
      },
      "source": [
        "from tensorflow.keras import regularizers"
      ],
      "execution_count": 0,
      "outputs": []
    },
    {
      "cell_type": "code",
      "metadata": {
        "id": "_HaVig0Txj6R",
        "colab_type": "code",
        "outputId": "53d9d607-d640-4cf8-eb2d-1ad17e51121d",
        "colab": {
          "base_uri": "https://localhost:8080/",
          "height": 1000
        }
      },
      "source": [
        "# model_3 = Sequential([\n",
        "# Dense(1000, activation = 'relu', kernel_regularizer=regularizers.l2(0.01), input_shape = (10,)),\n",
        "# Dropout(0.3),\n",
        "# Dense(1000, activation = 'relu', kernel_regularizer=regularizers.l2(0.01)),\n",
        "# Dropout(0.3),\n",
        "# Dense(1000, activation = 'relu', kernel_regularizer=regularizers.l2(0.01)),\n",
        "# Dropout(0.3)\n",
        "# Dense(1000, activation = 'relu', kernel_regularizer=regularizers.l2(0.01)),\n",
        "# Dropout(0.3)\n",
        "# Dense(1, activation = 'sigmoid', kernel_regularizer=regularizers.l2(0.01)),\n",
        "# ])\n",
        "\n",
        "model_3 = Sequential([\n",
        "    Dense(1000, activation='relu', kernel_regularizer=regularizers.l2(0.01), input_shape=(10,)),\n",
        "    Dropout(0.3),\n",
        "    Dense(1000, activation='relu', kernel_regularizer=regularizers.l2(0.01)),\n",
        "    Dropout(0.3),\n",
        "    Dense(1000, activation='relu', kernel_regularizer=regularizers.l2(0.01)),\n",
        "    Dropout(0.3),\n",
        "    Dense(1000, activation='relu', kernel_regularizer=regularizers.l2(0.01)),\n",
        "    Dropout(0.3),\n",
        "    Dense(1, activation='sigmoid', kernel_regularizer=regularizers.l2(0.01)),\n",
        "])\n",
        "\n",
        "model_3.compile(optimizer = 'adam', loss = 'binary_crossentropy', metrics = ['accuracy'])\n",
        "\n",
        "hist_3 = model_3.fit(X_train, Y_train, batch_size = 32, epochs = 100, validation_data = (X_val, Y_val))\n"
      ],
      "execution_count": 0,
      "outputs": [
        {
          "output_type": "stream",
          "text": [
            "Train on 1022 samples, validate on 219 samples\n",
            "Epoch 1/100\n",
            "1022/1022 [==============================] - 2s 2ms/sample - loss: 14.2451 - accuracy: 0.6047 - val_loss: 3.9530 - val_accuracy: 0.7991\n",
            "Epoch 2/100\n",
            "1022/1022 [==============================] - 2s 2ms/sample - loss: 1.6736 - accuracy: 0.8297 - val_loss: 0.6363 - val_accuracy: 0.8904\n",
            "Epoch 3/100\n",
            "1022/1022 [==============================] - 2s 2ms/sample - loss: 0.5567 - accuracy: 0.8679 - val_loss: 0.4898 - val_accuracy: 0.8950\n",
            "Epoch 4/100\n",
            "1022/1022 [==============================] - 2s 2ms/sample - loss: 0.4965 - accuracy: 0.8640 - val_loss: 0.4726 - val_accuracy: 0.8995\n",
            "Epoch 5/100\n",
            "1022/1022 [==============================] - 2s 2ms/sample - loss: 0.4771 - accuracy: 0.8796 - val_loss: 0.4574 - val_accuracy: 0.8950\n",
            "Epoch 6/100\n",
            "1022/1022 [==============================] - 2s 2ms/sample - loss: 0.4633 - accuracy: 0.8845 - val_loss: 0.4534 - val_accuracy: 0.8950\n",
            "Epoch 7/100\n",
            "1022/1022 [==============================] - 2s 2ms/sample - loss: 0.5095 - accuracy: 0.8601 - val_loss: 0.4935 - val_accuracy: 0.8584\n",
            "Epoch 8/100\n",
            "1022/1022 [==============================] - 2s 2ms/sample - loss: 0.4705 - accuracy: 0.8708 - val_loss: 0.5285 - val_accuracy: 0.8493\n",
            "Epoch 9/100\n",
            "1022/1022 [==============================] - 2s 2ms/sample - loss: 0.4616 - accuracy: 0.8816 - val_loss: 0.4646 - val_accuracy: 0.8904\n",
            "Epoch 10/100\n",
            "1022/1022 [==============================] - 2s 2ms/sample - loss: 0.4849 - accuracy: 0.8650 - val_loss: 0.4774 - val_accuracy: 0.8676\n",
            "Epoch 11/100\n",
            "1022/1022 [==============================] - 2s 2ms/sample - loss: 0.4795 - accuracy: 0.8708 - val_loss: 0.4470 - val_accuracy: 0.8767\n",
            "Epoch 12/100\n",
            "1022/1022 [==============================] - 2s 2ms/sample - loss: 0.4525 - accuracy: 0.8826 - val_loss: 0.4750 - val_accuracy: 0.8584\n",
            "Epoch 13/100\n",
            "1022/1022 [==============================] - 2s 2ms/sample - loss: 0.4574 - accuracy: 0.8826 - val_loss: 0.4602 - val_accuracy: 0.8813\n",
            "Epoch 14/100\n",
            "1022/1022 [==============================] - 2s 2ms/sample - loss: 0.4691 - accuracy: 0.8581 - val_loss: 0.4518 - val_accuracy: 0.8767\n",
            "Epoch 15/100\n",
            "1022/1022 [==============================] - 2s 2ms/sample - loss: 0.4495 - accuracy: 0.8777 - val_loss: 0.4646 - val_accuracy: 0.8676\n",
            "Epoch 16/100\n",
            "1022/1022 [==============================] - 2s 2ms/sample - loss: 0.4410 - accuracy: 0.8865 - val_loss: 0.4275 - val_accuracy: 0.8995\n",
            "Epoch 17/100\n",
            "1022/1022 [==============================] - 2s 2ms/sample - loss: 0.4333 - accuracy: 0.8894 - val_loss: 0.4511 - val_accuracy: 0.8630\n",
            "Epoch 18/100\n",
            "1022/1022 [==============================] - 2s 2ms/sample - loss: 0.4446 - accuracy: 0.8836 - val_loss: 0.4293 - val_accuracy: 0.8904\n",
            "Epoch 19/100\n",
            "1022/1022 [==============================] - 2s 2ms/sample - loss: 0.4471 - accuracy: 0.8836 - val_loss: 0.4423 - val_accuracy: 0.8767\n",
            "Epoch 20/100\n",
            "1022/1022 [==============================] - 2s 2ms/sample - loss: 0.4448 - accuracy: 0.8855 - val_loss: 0.4312 - val_accuracy: 0.8950\n",
            "Epoch 21/100\n",
            "1022/1022 [==============================] - 2s 2ms/sample - loss: 0.4415 - accuracy: 0.8855 - val_loss: 0.4324 - val_accuracy: 0.8995\n",
            "Epoch 22/100\n",
            "1022/1022 [==============================] - 2s 2ms/sample - loss: 0.4313 - accuracy: 0.8826 - val_loss: 0.4286 - val_accuracy: 0.8904\n",
            "Epoch 23/100\n",
            "1022/1022 [==============================] - 2s 2ms/sample - loss: 0.4271 - accuracy: 0.8933 - val_loss: 0.4248 - val_accuracy: 0.8904\n",
            "Epoch 24/100\n",
            "1022/1022 [==============================] - 2s 2ms/sample - loss: 0.4403 - accuracy: 0.8875 - val_loss: 0.4458 - val_accuracy: 0.8676\n",
            "Epoch 25/100\n",
            "1022/1022 [==============================] - 2s 2ms/sample - loss: 0.4448 - accuracy: 0.8875 - val_loss: 0.4253 - val_accuracy: 0.8950\n",
            "Epoch 26/100\n",
            "1022/1022 [==============================] - 2s 2ms/sample - loss: 0.4349 - accuracy: 0.8845 - val_loss: 0.4361 - val_accuracy: 0.8813\n",
            "Epoch 27/100\n",
            "1022/1022 [==============================] - 2s 2ms/sample - loss: 0.4437 - accuracy: 0.8885 - val_loss: 0.4380 - val_accuracy: 0.8767\n",
            "Epoch 28/100\n",
            "1022/1022 [==============================] - 2s 2ms/sample - loss: 0.4283 - accuracy: 0.8796 - val_loss: 0.4271 - val_accuracy: 0.8950\n",
            "Epoch 29/100\n",
            "1022/1022 [==============================] - 2s 2ms/sample - loss: 0.4383 - accuracy: 0.8894 - val_loss: 0.4212 - val_accuracy: 0.8950\n",
            "Epoch 30/100\n",
            "1022/1022 [==============================] - 2s 2ms/sample - loss: 0.4411 - accuracy: 0.8855 - val_loss: 0.4282 - val_accuracy: 0.8950\n",
            "Epoch 31/100\n",
            "1022/1022 [==============================] - 2s 2ms/sample - loss: 0.4339 - accuracy: 0.8826 - val_loss: 0.4232 - val_accuracy: 0.8995\n",
            "Epoch 32/100\n",
            "1022/1022 [==============================] - 2s 2ms/sample - loss: 0.4223 - accuracy: 0.8875 - val_loss: 0.4305 - val_accuracy: 0.8767\n",
            "Epoch 33/100\n",
            "1022/1022 [==============================] - 2s 2ms/sample - loss: 0.4270 - accuracy: 0.8914 - val_loss: 0.4833 - val_accuracy: 0.8630\n",
            "Epoch 34/100\n",
            "1022/1022 [==============================] - 2s 1ms/sample - loss: 0.4314 - accuracy: 0.8953 - val_loss: 0.4209 - val_accuracy: 0.8995\n",
            "Epoch 35/100\n",
            "1022/1022 [==============================] - 2s 2ms/sample - loss: 0.4379 - accuracy: 0.8826 - val_loss: 0.4417 - val_accuracy: 0.8858\n",
            "Epoch 36/100\n",
            "1022/1022 [==============================] - 2s 2ms/sample - loss: 0.4374 - accuracy: 0.8845 - val_loss: 0.4778 - val_accuracy: 0.8676\n",
            "Epoch 37/100\n",
            "1022/1022 [==============================] - 2s 2ms/sample - loss: 0.4366 - accuracy: 0.8836 - val_loss: 0.4228 - val_accuracy: 0.8950\n",
            "Epoch 38/100\n",
            "1022/1022 [==============================] - 2s 2ms/sample - loss: 0.4589 - accuracy: 0.8611 - val_loss: 0.4240 - val_accuracy: 0.8904\n",
            "Epoch 39/100\n",
            "1022/1022 [==============================] - 2s 1ms/sample - loss: 0.4342 - accuracy: 0.8836 - val_loss: 0.4321 - val_accuracy: 0.8813\n",
            "Epoch 40/100\n",
            "1022/1022 [==============================] - 2s 2ms/sample - loss: 0.4385 - accuracy: 0.8855 - val_loss: 0.4240 - val_accuracy: 0.8950\n",
            "Epoch 41/100\n",
            "1022/1022 [==============================] - 2s 1ms/sample - loss: 0.4312 - accuracy: 0.8914 - val_loss: 0.4389 - val_accuracy: 0.8721\n",
            "Epoch 42/100\n",
            "1022/1022 [==============================] - 2s 2ms/sample - loss: 0.4288 - accuracy: 0.8992 - val_loss: 0.4246 - val_accuracy: 0.8904\n",
            "Epoch 43/100\n",
            "1022/1022 [==============================] - 2s 2ms/sample - loss: 0.4334 - accuracy: 0.8904 - val_loss: 0.4260 - val_accuracy: 0.8813\n",
            "Epoch 44/100\n",
            "1022/1022 [==============================] - 2s 2ms/sample - loss: 0.4555 - accuracy: 0.8630 - val_loss: 0.4739 - val_accuracy: 0.8721\n",
            "Epoch 45/100\n",
            "1022/1022 [==============================] - 2s 1ms/sample - loss: 0.4337 - accuracy: 0.8777 - val_loss: 0.4305 - val_accuracy: 0.8813\n",
            "Epoch 46/100\n",
            "1022/1022 [==============================] - 2s 2ms/sample - loss: 0.4241 - accuracy: 0.8914 - val_loss: 0.4188 - val_accuracy: 0.8950\n",
            "Epoch 47/100\n",
            "1022/1022 [==============================] - 2s 2ms/sample - loss: 0.4413 - accuracy: 0.8816 - val_loss: 0.4502 - val_accuracy: 0.8721\n",
            "Epoch 48/100\n",
            "1022/1022 [==============================] - 2s 2ms/sample - loss: 0.4278 - accuracy: 0.8845 - val_loss: 0.4221 - val_accuracy: 0.8950\n",
            "Epoch 49/100\n",
            "1022/1022 [==============================] - 2s 2ms/sample - loss: 0.4420 - accuracy: 0.8826 - val_loss: 0.4278 - val_accuracy: 0.8858\n",
            "Epoch 50/100\n",
            "1022/1022 [==============================] - 2s 2ms/sample - loss: 0.4279 - accuracy: 0.8757 - val_loss: 0.4239 - val_accuracy: 0.8950\n",
            "Epoch 51/100\n",
            "1022/1022 [==============================] - 2s 2ms/sample - loss: 0.4331 - accuracy: 0.8787 - val_loss: 0.4592 - val_accuracy: 0.8721\n",
            "Epoch 52/100\n",
            "1022/1022 [==============================] - 2s 1ms/sample - loss: 0.4244 - accuracy: 0.8865 - val_loss: 0.4241 - val_accuracy: 0.8904\n",
            "Epoch 53/100\n",
            "1022/1022 [==============================] - 2s 2ms/sample - loss: 0.4298 - accuracy: 0.8855 - val_loss: 0.4867 - val_accuracy: 0.8676\n",
            "Epoch 54/100\n",
            "1022/1022 [==============================] - 2s 2ms/sample - loss: 0.4381 - accuracy: 0.8885 - val_loss: 0.4264 - val_accuracy: 0.8904\n",
            "Epoch 55/100\n",
            "1022/1022 [==============================] - 2s 1ms/sample - loss: 0.4310 - accuracy: 0.8924 - val_loss: 0.4228 - val_accuracy: 0.8904\n",
            "Epoch 56/100\n",
            "1022/1022 [==============================] - 2s 2ms/sample - loss: 0.4260 - accuracy: 0.8982 - val_loss: 0.4212 - val_accuracy: 0.8904\n",
            "Epoch 57/100\n",
            "1022/1022 [==============================] - 2s 2ms/sample - loss: 0.4242 - accuracy: 0.8963 - val_loss: 0.4185 - val_accuracy: 0.8904\n",
            "Epoch 58/100\n",
            "1022/1022 [==============================] - 2s 2ms/sample - loss: 0.4410 - accuracy: 0.8826 - val_loss: 0.4292 - val_accuracy: 0.8813\n",
            "Epoch 59/100\n",
            "1022/1022 [==============================] - 2s 2ms/sample - loss: 0.4330 - accuracy: 0.8836 - val_loss: 0.4309 - val_accuracy: 0.8767\n",
            "Epoch 60/100\n",
            "1022/1022 [==============================] - 2s 2ms/sample - loss: 0.4281 - accuracy: 0.8855 - val_loss: 0.4213 - val_accuracy: 0.8858\n",
            "Epoch 61/100\n",
            "1022/1022 [==============================] - 2s 1ms/sample - loss: 0.4298 - accuracy: 0.8767 - val_loss: 0.4368 - val_accuracy: 0.8767\n",
            "Epoch 62/100\n",
            "1022/1022 [==============================] - 2s 2ms/sample - loss: 0.4319 - accuracy: 0.8894 - val_loss: 0.4192 - val_accuracy: 0.8950\n",
            "Epoch 63/100\n",
            "1022/1022 [==============================] - 2s 2ms/sample - loss: 0.4242 - accuracy: 0.8865 - val_loss: 0.4222 - val_accuracy: 0.8813\n",
            "Epoch 64/100\n",
            "1022/1022 [==============================] - 2s 2ms/sample - loss: 0.4389 - accuracy: 0.8855 - val_loss: 0.4240 - val_accuracy: 0.8995\n",
            "Epoch 65/100\n",
            "1022/1022 [==============================] - 2s 2ms/sample - loss: 0.4333 - accuracy: 0.8924 - val_loss: 0.4262 - val_accuracy: 0.8813\n",
            "Epoch 66/100\n",
            "1022/1022 [==============================] - 2s 1ms/sample - loss: 0.4428 - accuracy: 0.8865 - val_loss: 0.4280 - val_accuracy: 0.8904\n",
            "Epoch 67/100\n",
            "1022/1022 [==============================] - 2s 1ms/sample - loss: 0.4380 - accuracy: 0.8826 - val_loss: 0.4209 - val_accuracy: 0.8950\n",
            "Epoch 68/100\n",
            "1022/1022 [==============================] - 2s 1ms/sample - loss: 0.4249 - accuracy: 0.8963 - val_loss: 0.4356 - val_accuracy: 0.8767\n",
            "Epoch 69/100\n",
            "1022/1022 [==============================] - 2s 1ms/sample - loss: 0.4289 - accuracy: 0.8904 - val_loss: 0.4188 - val_accuracy: 0.8995\n",
            "Epoch 70/100\n",
            "1022/1022 [==============================] - 2s 1ms/sample - loss: 0.4352 - accuracy: 0.8767 - val_loss: 0.4218 - val_accuracy: 0.8950\n",
            "Epoch 71/100\n",
            "1022/1022 [==============================] - 2s 2ms/sample - loss: 0.4437 - accuracy: 0.8796 - val_loss: 0.4245 - val_accuracy: 0.8950\n",
            "Epoch 72/100\n",
            "1022/1022 [==============================] - 2s 1ms/sample - loss: 0.4268 - accuracy: 0.8894 - val_loss: 0.4217 - val_accuracy: 0.8858\n",
            "Epoch 73/100\n",
            "1022/1022 [==============================] - 2s 1ms/sample - loss: 0.4262 - accuracy: 0.8933 - val_loss: 0.4369 - val_accuracy: 0.8721\n",
            "Epoch 74/100\n",
            "1022/1022 [==============================] - 2s 1ms/sample - loss: 0.4444 - accuracy: 0.8845 - val_loss: 0.5220 - val_accuracy: 0.8630\n",
            "Epoch 75/100\n",
            "1022/1022 [==============================] - 2s 1ms/sample - loss: 0.4324 - accuracy: 0.8953 - val_loss: 0.4767 - val_accuracy: 0.8676\n",
            "Epoch 76/100\n",
            "1022/1022 [==============================] - 2s 1ms/sample - loss: 0.4340 - accuracy: 0.8885 - val_loss: 0.4178 - val_accuracy: 0.8904\n",
            "Epoch 77/100\n",
            "1022/1022 [==============================] - 2s 1ms/sample - loss: 0.4429 - accuracy: 0.8757 - val_loss: 0.4204 - val_accuracy: 0.8904\n",
            "Epoch 78/100\n",
            "1022/1022 [==============================] - 2s 1ms/sample - loss: 0.4325 - accuracy: 0.8836 - val_loss: 0.4219 - val_accuracy: 0.8858\n",
            "Epoch 79/100\n",
            "1022/1022 [==============================] - 2s 1ms/sample - loss: 0.4467 - accuracy: 0.8806 - val_loss: 0.4223 - val_accuracy: 0.8904\n",
            "Epoch 80/100\n",
            "1022/1022 [==============================] - 2s 1ms/sample - loss: 0.4226 - accuracy: 0.8933 - val_loss: 0.4254 - val_accuracy: 0.8858\n",
            "Epoch 81/100\n",
            "1022/1022 [==============================] - 2s 1ms/sample - loss: 0.4424 - accuracy: 0.8806 - val_loss: 0.4309 - val_accuracy: 0.8813\n",
            "Epoch 82/100\n",
            "1022/1022 [==============================] - 2s 1ms/sample - loss: 0.4347 - accuracy: 0.8875 - val_loss: 0.5075 - val_accuracy: 0.8721\n",
            "Epoch 83/100\n",
            "1022/1022 [==============================] - 2s 1ms/sample - loss: 0.4554 - accuracy: 0.8699 - val_loss: 0.4697 - val_accuracy: 0.8721\n",
            "Epoch 84/100\n",
            "1022/1022 [==============================] - 2s 1ms/sample - loss: 0.4293 - accuracy: 0.8885 - val_loss: 0.4189 - val_accuracy: 0.8904\n",
            "Epoch 85/100\n",
            "1022/1022 [==============================] - 2s 1ms/sample - loss: 0.4400 - accuracy: 0.8777 - val_loss: 0.4401 - val_accuracy: 0.8721\n",
            "Epoch 86/100\n",
            "1022/1022 [==============================] - 2s 2ms/sample - loss: 0.4218 - accuracy: 0.8826 - val_loss: 0.4220 - val_accuracy: 0.8904\n",
            "Epoch 87/100\n",
            "1022/1022 [==============================] - 2s 1ms/sample - loss: 0.4260 - accuracy: 0.8836 - val_loss: 0.4190 - val_accuracy: 0.8950\n",
            "Epoch 88/100\n",
            "1022/1022 [==============================] - 2s 2ms/sample - loss: 0.4307 - accuracy: 0.8875 - val_loss: 0.4272 - val_accuracy: 0.8767\n",
            "Epoch 89/100\n",
            "1022/1022 [==============================] - 2s 1ms/sample - loss: 0.4287 - accuracy: 0.8904 - val_loss: 0.4238 - val_accuracy: 0.8858\n",
            "Epoch 90/100\n",
            "1022/1022 [==============================] - 2s 2ms/sample - loss: 0.4288 - accuracy: 0.8885 - val_loss: 0.4242 - val_accuracy: 0.8813\n",
            "Epoch 91/100\n",
            "1022/1022 [==============================] - 2s 1ms/sample - loss: 0.4309 - accuracy: 0.8816 - val_loss: 0.4179 - val_accuracy: 0.8950\n",
            "Epoch 92/100\n",
            "1022/1022 [==============================] - 2s 2ms/sample - loss: 0.4240 - accuracy: 0.8963 - val_loss: 0.4248 - val_accuracy: 0.8904\n",
            "Epoch 93/100\n",
            "1022/1022 [==============================] - 2s 2ms/sample - loss: 0.4261 - accuracy: 0.8836 - val_loss: 0.4169 - val_accuracy: 0.8950\n",
            "Epoch 94/100\n",
            "1022/1022 [==============================] - 2s 1ms/sample - loss: 0.4247 - accuracy: 0.8836 - val_loss: 0.4233 - val_accuracy: 0.8950\n",
            "Epoch 95/100\n",
            "1022/1022 [==============================] - 2s 1ms/sample - loss: 0.4374 - accuracy: 0.8796 - val_loss: 0.4328 - val_accuracy: 0.8676\n",
            "Epoch 96/100\n",
            "1022/1022 [==============================] - 2s 1ms/sample - loss: 0.4263 - accuracy: 0.8904 - val_loss: 0.4281 - val_accuracy: 0.8721\n",
            "Epoch 97/100\n",
            "1022/1022 [==============================] - 2s 1ms/sample - loss: 0.4241 - accuracy: 0.8845 - val_loss: 0.4332 - val_accuracy: 0.8721\n",
            "Epoch 98/100\n",
            "1022/1022 [==============================] - 2s 1ms/sample - loss: 0.4154 - accuracy: 0.8933 - val_loss: 0.4186 - val_accuracy: 0.8950\n",
            "Epoch 99/100\n",
            "1022/1022 [==============================] - 2s 1ms/sample - loss: 0.4260 - accuracy: 0.8894 - val_loss: 0.4190 - val_accuracy: 0.8995\n",
            "Epoch 100/100\n",
            "1022/1022 [==============================] - 2s 1ms/sample - loss: 0.4241 - accuracy: 0.8924 - val_loss: 0.4179 - val_accuracy: 0.8904\n"
          ],
          "name": "stdout"
        }
      ]
    },
    {
      "cell_type": "code",
      "metadata": {
        "id": "_xcrQitbzdeY",
        "colab_type": "code",
        "outputId": "530d46dd-d51b-42d2-f9ce-974961e415d9",
        "colab": {
          "base_uri": "https://localhost:8080/",
          "height": 295
        }
      },
      "source": [
        "plt.plot(hist.history['loss'])\n",
        "plt.plot(hist.history['val_loss'])\n",
        "plt.title('Model loss')\n",
        "plt.ylabel('Loss')\n",
        "plt.xlabel('Epoch')\n",
        "plt.legend(['Train', 'Val'], loc = 'upper right')\n",
        "plt.show()"
      ],
      "execution_count": 0,
      "outputs": [
        {
          "output_type": "display_data",
          "data": {
            "image/png": "[encoded data removed]",
            "text/plain": [
              "<Figure size 432x288 with 1 Axes>"
            ]
          },
          "metadata": {
            "tags": []
          }
        }
      ]
    },
    {
      "cell_type": "code",
      "metadata": {
        "id": "LXTx6ePr06Od",
        "colab_type": "code",
        "outputId": "be1f1632-6f6d-4865-e8a5-1798d8817874",
        "colab": {
          "base_uri": "https://localhost:8080/",
          "height": 295
        }
      },
      "source": [
        "plt.plot(hist.history['accuracy'])\n",
        "plt.plot(hist.history['val_accuracy'])\n",
        "plt.title('Model Accuracy')\n",
        "plt.ylabel('Accuracy')\n",
        "plt.xlabel('Epoch')\n",
        "plt.legend(['Train', 'Val'], loc = 'upper right')\n",
        "plt.show()"
      ],
      "execution_count": 0,
      "outputs": [
        {
          "output_type": "display_data",
          "data": {
            "image/png": "[encoded data removed]",
            "text/plain": [
              "<Figure size 432x288 with 1 Axes>"
            ]
          },
          "metadata": {
            "tags": []
          }
        }
      ]
    },
    {
      "cell_type": "code",
      "metadata": {
        "id": "YMSBUxo84Q0B",
        "colab_type": "code",
        "colab": {}
      },
      "source": [
        ""
      ],
      "execution_count": 0,
      "outputs": []
    }
  ]
}